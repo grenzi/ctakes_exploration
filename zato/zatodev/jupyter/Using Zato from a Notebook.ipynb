{
 "cells": [
  {
   "cell_type": "markdown",
   "metadata": {},
   "source": [
    "# Using Zato from a notebook\n",
    "\n",
    "So this is running in [Jupyter](https://jupyter.readthedocs.io/en/latest/install.html). \n",
    "I started down this route thinking of developer docs, but also realized that there's a use case here for potential customers. \n",
    "\n",
    "Notebooks could be a great way to allow tech users to interact with Blue Creek services and produce their own data analyses. \n",
    "\n",
    "We'd probably need to restrict outbound IPs to just those that are local to the Blue Creek production environment and/or whitelisted to prevent PHI disclosure, etc (e.g., ftp data out or pass to third party web services)\n",
    "\n",
    "## setup for examples\n",
    "you'll need to create a new channel for the admin.invoke service. \n",
    "\n",
    "you should be able to do that [here](http://localhost:9000/zato/http-soap/?cluster=1&connection=channel&transport=plain_http)\n",
    "\n",
    "please set up like this:\n",
    "![Channel Def](images/zato.admin.invoke.channel.png)\n",
    "\n",
    "## example with zato.ping service"
   ]
  },
  {
   "cell_type": "code",
   "execution_count": 1,
   "metadata": {
    "collapsed": false
   },
   "outputs": [
    {
     "name": "stdout",
     "output_type": "stream",
     "text": [
      "{'pong': 'zato'}\n"
     ]
    }
   ],
   "source": [
    "# example from zato.io\n",
    "# if you get a connection error, make sure zato is running \n",
    "# by executing /vagrant/zatodev/go.sh\n",
    "from zato.client import AnyServiceInvoker\n",
    "\n",
    "address = 'http://localhost:11223'\n",
    "path = '/zatodev/admin/invoke'\n",
    "#auth = ('user for channel', 'password for channel')\n",
    "\n",
    "client = AnyServiceInvoker(address, path, auth=None)\n",
    "response = client.invoke('zato.ping')\n",
    "\n",
    "if response.ok:\n",
    "    print(response.data)\n",
    "else:\n",
    "    print(response.details)"
   ]
  },
  {
   "cell_type": "markdown",
   "metadata": {},
   "source": [
    "# Example: Creating and loading a corpus\n",
    "\n",
    "**I think this is busted because of the channel types and service handler interactions. e.g, handle_POST vs handle in the services to support restful naming conventions. I do wonder if it would be better to move all of blue creek into a library, but that gives issues to (e.g., how to call other services, etc). **\n",
    "\n",
    "**Not sure what the right direction here is. Probably need to ask the folks on the zato mailing list.**\n",
    "\n",
    "in this example, we just use our own service's name"
   ]
  },
  {
   "cell_type": "code",
   "execution_count": null,
   "metadata": {
    "collapsed": false
   },
   "outputs": [],
   "source": [
    "from zato.client import AnyServiceInvoker\n",
    "\n",
    "address = 'http://localhost:11223'\n",
    "path = '/zatodev/admin/invoke'\n",
    "payload = {'name':'jupyter corpus', 'description':'sample description'}\n",
    "\n",
    "client = AnyServiceInvoker(address, path, auth=None)\n",
    "response = client.invoke('cte-corpora-addedit', payload=payload)\n",
    "\n",
    "if response.ok:\n",
    "    print(response.data)\n",
    "else:\n",
    "    print(response.details)\n"
   ]
  },
  {
   "cell_type": "markdown",
   "metadata": {},
   "source": [
    "### workaround"
   ]
  },
  {
   "cell_type": "code",
   "execution_count": 10,
   "metadata": {
    "collapsed": false
   },
   "outputs": [
    {
     "name": "stdout",
     "output_type": "stream",
     "text": [
      "[K06KKCD4C7D1EVJZJ91WZ6Y6KNKH] Unknown URL:[/corpora] or SOAP action:[]\n"
     ]
    }
   ],
   "source": [
    "# http://docs.python-requests.org/en/master/user/quickstart/\n",
    "import requests\n",
    "resp = requests.get('http://localhost:11223/corpora', data=None, headers={'Content-Type':'application/json'})\n",
    "\n",
    "print resp.text\n",
    "       "
   ]
  },
  {
   "cell_type": "markdown",
   "metadata": {},
   "source": [
    "# Other things that you can do\n",
    "\n",
    "### run shell commands\n"
   ]
  },
  {
   "cell_type": "code",
   "execution_count": 14,
   "metadata": {
    "collapsed": false
   },
   "outputs": [
    {
     "name": "stdout",
     "output_type": "stream",
     "text": [
      "  File \"/opt/zato/2.0.7/zato-server/src/zato/server/service/reqresp/__init__.py\", line 343, in getvalue\r\n",
      "    elem_value = self._getvalue(name, item, is_sa_namedtuple, is_required, leave_as_is)\r\n",
      "  File \"/opt/zato/2.0.7/zato-server/src/zato/server/service/reqresp/__init__.py\", line 289, in _getvalue\r\n",
      "    raise ZatoException(self.zato_cid, msg)\r\n",
      "ZatoException: Expected elem:[status] not found in item:[{u'status': u'', u'data': u''}]\r\n",
      "\r\n",
      "`\r\n",
      "2016-06-18 20:47:17,345 - \u001b[1;33mWARNING\u001b[0m - 2004:Dummy-300 - zato.server.service:22 - Traceback (most recent call last):\r\n",
      "  File \"/opt/zato/2.0.7/zato-server/src/zato/server/service/__init__.py\", line 405, in update_handle\r\n",
      "    service.post_handle()\r\n",
      "  File \"/opt/zato/2.0.7/zato-server/src/zato/server/service/__init__.py\", line 610, in post_handle\r\n",
      "    resp = (self.response.payload.getvalue() if hasattr(self.response.payload, 'getvalue') else self.response.payload) or ''\r\n",
      "  File \"/opt/zato/2.0.7/zato-server/src/zato/server/service/reqresp/__init__.py\", line 343, in getvalue\r\n",
      "    elem_value = self._getvalue(name, item, is_sa_namedtuple, is_required, leave_as_is)\r\n",
      "  File \"/opt/zato/2.0.7/zato-server/src/zato/server/service/reqresp/__init__.py\", line 289, in _getvalue\r\n",
      "    raise ZatoException(self.zato_cid, msg)\r\n",
      "ZatoException: Expected elem:[status] not found in item:[{u'status': u'', u'data': u''}]\r\n",
      "\r\n",
      "2016-06-18 20:47:17,346 - \u001b[1;33mWARNING\u001b[0m - 2004:Dummy-300 - zato.server.service:22 - Traceback (most recent call last):\r\n",
      "  File \"/opt/zato/2.0.7/zato-server/src/zato/server/service/__init__.py\", line 414, in update_handle\r\n",
      "    response = set_response_func(service, data_format=data_format, transport=transport, **kwargs)\r\n",
      "  File \"/opt/zato/2.0.7/zato-server/src/zato/server/service/__init__.py\", line 308, in set_response_data\r\n",
      "    response = response.getvalue(serialize=kwargs['serialize'])\r\n",
      "  File \"/opt/zato/2.0.7/zato-server/src/zato/server/service/reqresp/__init__.py\", line 343, in getvalue\r\n",
      "    elem_value = self._getvalue(name, item, is_sa_namedtuple, is_required, leave_as_is)\r\n",
      "  File \"/opt/zato/2.0.7/zato-server/src/zato/server/service/reqresp/__init__.py\", line 289, in _getvalue\r\n",
      "    raise ZatoException(self.zato_cid, msg)\r\n",
      "ZatoException: Expected elem:[status] not found in item:[{u'status': u'', u'data': u''}]\r\n",
      "\r\n",
      "2016-06-18 20:47:17,346 - \u001b[1;33mWARNING\u001b[0m - 2004:Dummy-300 - zato.server.service:22 - Could not invoke `cte-corpora-addedit`, e:`Traceback (most recent call last):\r\n",
      "  File \"/opt/zato/2.0.7/zato-server/src/zato/server/service/__init__.py\", line 483, in invoke_by_impl_name\r\n",
      "    return self.update_handle(*invoke_args, **kwargs)\r\n",
      "  File \"/opt/zato/2.0.7/zato-server/src/zato/server/service/__init__.py\", line 428, in update_handle\r\n",
      "    raise Exception(exc_formatted)\r\n",
      "Exception: Traceback (most recent call last):\r\n",
      "  File \"/opt/zato/2.0.7/zato-server/src/zato/server/service/__init__.py\", line 405, in update_handle\r\n",
      "    service.post_handle()\r\n",
      "  File \"/opt/zato/2.0.7/zato-server/src/zato/server/service/__init__.py\", line 610, in post_handle\r\n",
      "    resp = (self.response.payload.getvalue() if hasattr(self.response.payload, 'getvalue') else self.response.payload) or ''\r\n",
      "  File \"/opt/zato/2.0.7/zato-server/src/zato/server/service/reqresp/__init__.py\", line 343, in getvalue\r\n",
      "    elem_value = self._getvalue(name, item, is_sa_namedtuple, is_required, leave_as_is)\r\n",
      "  File \"/opt/zato/2.0.7/zato-server/src/zato/server/service/reqresp/__init__.py\", line 289, in _getvalue\r\n",
      "    raise ZatoException(self.zato_cid, msg)\r\n",
      "ZatoException: Expected elem:[status] not found in item:[{u'status': u'', u'data': u''}]\r\n",
      "\r\n",
      "`\r\n",
      "2016-06-18 20:47:17,346 - \u001b[1;33mWARNING\u001b[0m - 2004:Dummy-300 - zato.server.service:22 - Traceback (most recent call last):\r\n",
      "  File \"/opt/zato/2.0.7/zato-server/src/zato/server/service/__init__.py\", line 401, in update_handle\r\n",
      "    self._invoke(service, channel)\r\n",
      "  File \"/opt/zato/2.0.7/zato-server/src/zato/server/service/__init__.py\", line 344, in _invoke\r\n",
      "    service.handle()\r\n",
      "  File \"/opt/zato/2.0.7/zato-server/src/zato/server/service/internal/service.py\", line 271, in handle\r\n",
      "    response = func(id_, payload, channel, data_format, transport, serialize=True)\r\n",
      "  File \"/opt/zato/2.0.7/zato-server/src/zato/server/service/__init__.py\", line 499, in invoke\r\n",
      "    return self.invoke_by_impl_name(self.server.service_store.name_to_impl_name[name], *args, **kwargs)\r\n",
      "  File \"/opt/zato/2.0.7/zato-server/src/zato/server/service/__init__.py\", line 483, in invoke_by_impl_name\r\n",
      "    return self.update_handle(*invoke_args, **kwargs)\r\n",
      "  File \"/opt/zato/2.0.7/zato-server/src/zato/server/service/__init__.py\", line 428, in update_handle\r\n",
      "    raise Exception(exc_formatted)\r\n",
      "Exception: Traceback (most recent call last):\r\n",
      "  File \"/opt/zato/2.0.7/zato-server/src/zato/server/service/__init__.py\", line 405, in update_handle\r\n",
      "    service.post_handle()\r\n",
      "  File \"/opt/zato/2.0.7/zato-server/src/zato/server/service/__init__.py\", line 610, in post_handle\r\n",
      "    resp = (self.response.payload.getvalue() if hasattr(self.response.payload, 'getvalue') else self.response.payload) or ''\r\n",
      "  File \"/opt/zato/2.0.7/zato-server/src/zato/server/service/reqresp/__init__.py\", line 343, in getvalue\r\n",
      "    elem_value = self._getvalue(name, item, is_sa_namedtuple, is_required, leave_as_is)\r\n",
      "  File \"/opt/zato/2.0.7/zato-server/src/zato/server/service/reqresp/__init__.py\", line 289, in _getvalue\r\n",
      "    raise ZatoException(self.zato_cid, msg)\r\n",
      "ZatoException: Expected elem:[status] not found in item:[{u'status': u'', u'data': u''}]\r\n",
      "\r\n",
      "\r\n",
      "2016-06-18 20:47:17,347 - \u001b[1;31mERROR\u001b[0m - 2004:Dummy-300 - zato.server.connection.http_soap.channel:22 - Caught an exception, cid:`K06MBNGYQNXMKC5F9ZQPD0Z5JWCT`, status_code:`500`, _format_exc:`Traceback (most recent call last):\r\n",
      "  File \"/opt/zato/2.0.7/zato-server/src/zato/server/connection/http_soap/channel.py\", line 198, in dispatch\r\n",
      "    payload, worker_store, self.simple_io_config, post_data)\r\n",
      "  File \"/opt/zato/2.0.7/zato-server/src/zato/server/connection/http_soap/channel.py\", line 350, in handle\r\n",
      "    params_priority=channel_item.params_pri)\r\n",
      "  File \"/opt/zato/2.0.7/zato-server/src/zato/server/service/__init__.py\", line 401, in update_handle\r\n",
      "    self._invoke(service, channel)\r\n",
      "  File \"/opt/zato/2.0.7/zato-server/src/zato/server/service/__init__.py\", line 344, in _invoke\r\n",
      "    service.handle()\r\n",
      "  File \"/opt/zato/2.0.7/zato-server/src/zato/server/service/internal/service.py\", line 271, in handle\r\n",
      "    response = func(id_, payload, channel, data_format, transport, serialize=True)\r\n",
      "  File \"/opt/zato/2.0.7/zato-server/src/zato/server/service/__init__.py\", line 499, in invoke\r\n",
      "    return self.invoke_by_impl_name(self.server.service_store.name_to_impl_name[name], *args, **kwargs)\r\n",
      "  File \"/opt/zato/2.0.7/zato-server/src/zato/server/service/__init__.py\", line 483, in invoke_by_impl_name\r\n",
      "    return self.update_handle(*invoke_args, **kwargs)\r\n",
      "  File \"/opt/zato/2.0.7/zato-server/src/zato/server/service/__init__.py\", line 428, in update_handle\r\n",
      "    raise Exception(exc_formatted)\r\n",
      "Exception: Traceback (most recent call last):\r\n",
      "  File \"/opt/zato/2.0.7/zato-server/src/zato/server/service/__init__.py\", line 405, in update_handle\r\n",
      "    service.post_handle()\r\n",
      "  File \"/opt/zato/2.0.7/zato-server/src/zato/server/service/__init__.py\", line 610, in post_handle\r\n",
      "    resp = (self.response.payload.getvalue() if hasattr(self.response.payload, 'getvalue') else self.response.payload) or ''\r\n",
      "  File \"/opt/zato/2.0.7/zato-server/src/zato/server/service/reqresp/__init__.py\", line 343, in getvalue\r\n",
      "    elem_value = self._getvalue(name, item, is_sa_namedtuple, is_required, leave_as_is)\r\n",
      "  File \"/opt/zato/2.0.7/zato-server/src/zato/server/service/reqresp/__init__.py\", line 289, in _getvalue\r\n",
      "    raise ZatoException(self.zato_cid, msg)\r\n",
      "ZatoException: Expected elem:[status] not found in item:[{u'status': u'', u'data': u''}]\r\n",
      "\r\n",
      "`\r\n"
     ]
    }
   ],
   "source": [
    "!tail -n 100 $ZATODIR/server1/logs/server.log"
   ]
  },
  {
   "cell_type": "code",
   "execution_count": null,
   "metadata": {
    "collapsed": true
   },
   "outputs": [],
   "source": []
  }
 ],
 "metadata": {
  "kernelspec": {
   "display_name": "Python 2",
   "language": "python",
   "name": "python2"
  },
  "language_info": {
   "codemirror_mode": {
    "name": "ipython",
    "version": 2
   },
   "file_extension": ".py",
   "mimetype": "text/x-python",
   "name": "python",
   "nbconvert_exporter": "python",
   "pygments_lexer": "ipython2",
   "version": "2.7.6"
  }
 },
 "nbformat": 4,
 "nbformat_minor": 0
}
