{
 "cells": [
  {
   "cell_type": "markdown",
   "metadata": {},
   "source": [
    "# Using Zato from a notebook\n",
    "\n",
    "So this is running in [Jupyter](https://jupyter.readthedocs.io/en/latest/install.html). \n",
    "I started down this route thinking of developer docs, but also realized that there's a use case here for potential customers. \n",
    "\n",
    "Notebooks could be a great way to allow tech users to interact with Blue Creek services and produce their own data analyses. \n",
    "\n",
    "We'd probably need to restrict outbound IPs to just those that are local to the Blue Creek production environment and/or whitelisted to prevent PHI disclosure, etc (e.g., ftp data out or pass to third party web services)\n",
    "\n",
    "## setup for examples\n",
    "you'll need to create a new channel for the admin.invoke service. \n",
    "\n",
    "you should be able to do that [here](http://localhost:9000/zato/http-soap/?cluster=1&connection=channel&transport=plain_http)\n",
    "\n",
    "please set up like this:\n",
    "![Channel Def](images/zato.admin.invoke.channel.png)\n",
    "\n",
    "## example with zato.ping service"
   ]
  },
  {
   "cell_type": "code",
   "execution_count": 1,
   "metadata": {
    "collapsed": false
   },
   "outputs": [
    {
     "name": "stdout",
     "output_type": "stream",
     "text": [
      "{'pong': 'zato'}\n"
     ]
    }
   ],
   "source": [
    "# example from zato.io\n",
    "# if you get a connection error, make sure zato is running \n",
    "# by executing /vagrant/zatodev/go.sh\n",
    "from zato.client import AnyServiceInvoker\n",
    "\n",
    "address = 'http://localhost:11223'\n",
    "path = '/zatodev/admin/invoke'\n",
    "#auth = ('user for channel', 'password for channel')\n",
    "\n",
    "client = AnyServiceInvoker(address, path, auth=None)\n",
    "response = client.invoke('zato.ping')\n",
    "\n",
    "if response.ok:\n",
    "    print(response.data)\n",
    "else:\n",
    "    print(response.details)"
   ]
  },
  {
   "cell_type": "markdown",
   "metadata": {},
   "source": [
    "# Example: Creating and loading a corpus\n",
    "\n",
    "**I think this is busted because of the channel types and service handler interactions. e.g, handle_POST vs handle in the services to support restful naming conventions. I do wonder if it would be better to move all of blue creek into a library, but that gives issues to (e.g., how to call other services, etc). **\n",
    "\n",
    "**Not sure what the right direction here is. Probably need to ask the folks on the zato mailing list.**\n",
    "\n",
    "in this example, we just use our own service's name"
   ]
  },
  {
   "cell_type": "code",
   "execution_count": null,
   "metadata": {
    "collapsed": false
   },
   "outputs": [],
   "source": [
    "from zato.client import AnyServiceInvoker\n",
    "\n",
    "address = 'http://localhost:11223'\n",
    "path = '/zatodev/admin/invoke'\n",
    "payload = {'name':'jupyter corpus', 'description':'sample description'}\n",
    "\n",
    "client = AnyServiceInvoker(address, path, auth=None)\n",
    "response = client.invoke('cte-corpora-addedit', payload=payload)\n",
    "\n",
    "if response.ok:\n",
    "    print(response.data)\n",
    "else:\n",
    "    print(response.details)\n"
   ]
  },
  {
   "cell_type": "markdown",
   "metadata": {},
   "source": [
    "### workaround"
   ]
  },
  {
   "cell_type": "code",
   "execution_count": 10,
   "metadata": {
    "collapsed": false
   },
   "outputs": [
    {
     "name": "stdout",
     "output_type": "stream",
     "text": [
      "[K06KKCD4C7D1EVJZJ91WZ6Y6KNKH] Unknown URL:[/corpora] or SOAP action:[]\n"
     ]
    }
   ],
   "source": [
    "# http://docs.python-requests.org/en/master/user/quickstart/\n",
    "import requests\n",
    "resp = requests.get('http://localhost:11223/corpora', data=None, headers={'Content-Type':'application/json'})\n",
    "\n",
    "print resp.text\n",
    "       "
   ]
  },
  {
   "cell_type": "markdown",
   "metadata": {},
   "source": [
    "# Other things that you can do\n",
    "\n",
    "### run shell commands\n"
   ]
  },
  {
   "cell_type": "code",
   "execution_count": 14,
   "metadata": {
    "collapsed": false
   },
   "outputs": [
    {
     "name": "stdout",
     "output_type": "stream",
     "text": [
      "\r\n",
      "`\r\n",
      "2016-06-18 21:47:43,712 - \u001b[1;33mWARNING\u001b[0m - 3161:Dummy-10 - zato.server.service:22 - Traceback (most recent call last):\r\n",
      "  File \"/opt/zato/2.0.7/zato-server/src/zato/server/service/__init__.py\", line 401, in update_handle\r\n",
      "    self._invoke(service, channel)\r\n",
      "  File \"/opt/zato/2.0.7/zato-server/src/zato/server/service/__init__.py\", line 344, in _invoke\r\n",
      "    service.handle()\r\n",
      "  File \"/opt/zato/2.0.7/zato-server/src/zato/server/service/internal/service.py\", line 271, in handle\r\n",
      "    response = func(id_, payload, channel, data_format, transport, serialize=True)\r\n",
      "  File \"/opt/zato/2.0.7/zato-server/src/zato/server/service/__init__.py\", line 499, in invoke\r\n",
      "    return self.invoke_by_impl_name(self.server.service_store.name_to_impl_name[name], *args, **kwargs)\r\n",
      "  File \"/opt/zato/2.0.7/zato-server/src/zato/server/service/__init__.py\", line 483, in invoke_by_impl_name\r\n",
      "    return self.update_handle(*invoke_args, **kwargs)\r\n",
      "  File \"/opt/zato/2.0.7/zato-server/src/zato/server/service/__init__.py\", line 428, in update_handle\r\n",
      "    raise Exception(exc_formatted)\r\n",
      "Exception: Traceback (most recent call last):\r\n",
      "  File \"/opt/zato/2.0.7/zato-server/src/zato/server/service/__init__.py\", line 401, in update_handle\r\n",
      "    self._invoke(service, channel)\r\n",
      "  File \"/opt/zato/2.0.7/zato-server/src/zato/server/service/__init__.py\", line 344, in _invoke\r\n",
      "    service.handle()\r\n",
      "  File \"/opt/zato/2.0.7/zato-server/src/zato/server/service/internal/http_soap.py\", line 140, in handle\r\n",
      "    raise Exception('An object of that name [{0}] already exists on this cluster'.format(input.name))\r\n",
      "Exception: An object of that name [corpora.fetch.one] already exists on this cluster\r\n",
      "\r\n",
      "\r\n",
      "2016-06-18 21:47:43,713 - \u001b[1;31mERROR\u001b[0m - 3161:Dummy-10 - zato.server.connection.http_soap.channel:22 - Caught an exception, cid:`K04YG792Q7EJH0R22P0H3TF9RN58`, status_code:`500`, _format_exc:`Traceback (most recent call last):\r\n",
      "  File \"/opt/zato/2.0.7/zato-server/src/zato/server/connection/http_soap/channel.py\", line 198, in dispatch\r\n",
      "    payload, worker_store, self.simple_io_config, post_data)\r\n",
      "  File \"/opt/zato/2.0.7/zato-server/src/zato/server/connection/http_soap/channel.py\", line 350, in handle\r\n",
      "    params_priority=channel_item.params_pri)\r\n",
      "  File \"/opt/zato/2.0.7/zato-server/src/zato/server/service/__init__.py\", line 401, in update_handle\r\n",
      "    self._invoke(service, channel)\r\n",
      "  File \"/opt/zato/2.0.7/zato-server/src/zato/server/service/__init__.py\", line 344, in _invoke\r\n",
      "    service.handle()\r\n",
      "  File \"/opt/zato/2.0.7/zato-server/src/zato/server/service/internal/service.py\", line 271, in handle\r\n",
      "    response = func(id_, payload, channel, data_format, transport, serialize=True)\r\n",
      "  File \"/opt/zato/2.0.7/zato-server/src/zato/server/service/__init__.py\", line 499, in invoke\r\n",
      "    return self.invoke_by_impl_name(self.server.service_store.name_to_impl_name[name], *args, **kwargs)\r\n",
      "  File \"/opt/zato/2.0.7/zato-server/src/zato/server/service/__init__.py\", line 483, in invoke_by_impl_name\r\n",
      "    return self.update_handle(*invoke_args, **kwargs)\r\n",
      "  File \"/opt/zato/2.0.7/zato-server/src/zato/server/service/__init__.py\", line 428, in update_handle\r\n",
      "    raise Exception(exc_formatted)\r\n",
      "Exception: Traceback (most recent call last):\r\n",
      "  File \"/opt/zato/2.0.7/zato-server/src/zato/server/service/__init__.py\", line 401, in update_handle\r\n",
      "    self._invoke(service, channel)\r\n",
      "  File \"/opt/zato/2.0.7/zato-server/src/zato/server/service/__init__.py\", line 344, in _invoke\r\n",
      "    service.handle()\r\n",
      "  File \"/opt/zato/2.0.7/zato-server/src/zato/server/service/internal/http_soap.py\", line 140, in handle\r\n",
      "    raise Exception('An object of that name [{0}] already exists on this cluster'.format(input.name))\r\n",
      "Exception: An object of that name [corpora.fetch.one] already exists on this cluster\r\n",
      "\r\n",
      "`\r\n",
      "2016-06-18 21:48:18,838 - \u001b[1;33mWARNING\u001b[0m - 3162:Dummy-30 - zato.server.connection.http_soap.channel:22 - Expected `DELETE` instead of `GET` for `/corpus/{id}`\r\n",
      "2016-06-18 21:48:18,839 - \u001b[1;31mERROR\u001b[0m - 3162:Dummy-30 - zato.server.connection.http_soap.channel:22 - Caught an exception, cid:`K050HDKCCG8C755D7QJ2NC2JAJ7X`, status_code:`405`, _format_exc:`Traceback (most recent call last):\r\n",
      "  File \"/opt/zato/2.0.7/zato-server/src/zato/server/connection/http_soap/channel.py\", line 171, in dispatch\r\n",
      "    raise MethodNotAllowed(cid, 'Method `{}` is not allowed here'.format(actual_method))\r\n",
      "MethodNotAllowed: Method `GET` is not allowed here\r\n",
      "`\r\n",
      "2016-06-18 21:49:26,550 - \u001b[1;37mINFO\u001b[0m - 3127:Dummy-1 - gunicorn.main:22 - Handling signal: term\r\n",
      "2016-06-18 21:49:26,665 - \u001b[1;37mINFO\u001b[0m - 3162:Dummy-1 - gunicorn.main:22 - Worker exiting (pid: 3162)\r\n",
      "2016-06-18 21:49:27,079 - \u001b[1;37mINFO\u001b[0m - 3161:Dummy-1 - gunicorn.main:22 - Worker exiting (pid: 3161)\r\n",
      "2016-06-18 21:49:27,271 - \u001b[1;37mINFO\u001b[0m - 3162:Dummy-44 - zato.server.pickup.gevent_pickup:22 - Successfully stopped the notifier\r\n",
      "2016-06-18 21:49:27,278 - \u001b[1;37mINFO\u001b[0m - 3162:Dummy-44 - ODBManager:22 - (server1) Cleared cluster-wide singleton server flag\r\n",
      "2016-06-18 21:49:27,456 - \u001b[1;37mINFO\u001b[0m - 3127:Dummy-1 - gunicorn.main:22 - Shutting down: Master\r\n",
      "2016-06-18 21:49:32,330 - \u001b[1;37mINFO\u001b[0m - 3255:Dummy-1 - gunicorn.main:22 - Starting gunicorn 18.0\r\n",
      "2016-06-18 21:49:32,332 - \u001b[1;37mINFO\u001b[0m - 3255:Dummy-1 - gunicorn.main:22 - Listening at: http://127.0.0.1:17010 (3255)\r\n",
      "2016-06-18 21:49:32,332 - \u001b[1;37mINFO\u001b[0m - 3255:Dummy-1 - gunicorn.main:22 - Using worker: gevent\r\n",
      "2016-06-18 21:49:32,341 - \u001b[1;37mINFO\u001b[0m - 3289:Dummy-1 - gunicorn.main:22 - Booting worker with pid: 3289\r\n",
      "2016-06-18 21:49:32,385 - \u001b[1;37mINFO\u001b[0m - 3290:Dummy-1 - gunicorn.main:22 - Booting worker with pid: 3290\r\n",
      "2016-06-18 21:49:44,291 - \u001b[1;37mINFO\u001b[0m - 3289:Dummy-1 - zato.server.odb:22 - Server id:[1], name:[server1] is now a connector server for cluster id:[1], name:[cte_dev]\r\n",
      "2016-06-18 21:49:44,292 - \u001b[1;37mINFO\u001b[0m - 3289:Dummy-1 - zato.server.base.parallel:22 - Initializing connectors\r\n",
      "2016-06-18 21:49:44,295 - \u001b[1;37mINFO\u001b[0m - 3289:Dummy-1 - zato.server.base.parallel:22 - No AMQP channels to start\r\n",
      "2016-06-18 21:49:44,298 - \u001b[1;37mINFO\u001b[0m - 3289:Dummy-1 - zato.server.base.parallel:22 - No AMQP outgoing connections to start\r\n",
      "2016-06-18 21:49:44,301 - \u001b[1;37mINFO\u001b[0m - 3289:Dummy-1 - zato.server.base.parallel:22 - No JMS WebSphere MQ channels to start\r\n",
      "2016-06-18 21:49:44,304 - \u001b[1;37mINFO\u001b[0m - 3289:Dummy-1 - zato.server.base.parallel:22 - No JMS WebSphere MQ outgoing connections to start\r\n",
      "2016-06-18 21:49:44,307 - \u001b[1;37mINFO\u001b[0m - 3289:Dummy-1 - zato.server.base.parallel:22 - No Zero MQ channels to start\r\n",
      "2016-06-18 21:49:44,311 - \u001b[1;37mINFO\u001b[0m - 3289:Dummy-3 - zato.broker.client:22 - Starting broker client, host:[localhost], port:[6379], name:[parallel-K06F71RENN37SNZNAFH44NMG5X4H], topics:[['/zato/to-parallel/all', '/zato/to-parallel/any', '/zato/to-singleton']]\r\n",
      "2016-06-18 21:49:46,834 - \u001b[1;37mINFO\u001b[0m - 3289:Dummy-8 - zato.helpers.input-logger:800 - {u'impl_name': u'zato.server.service.internal.helpers.InputLogger', u'name': u'zato.helpers.input-logger', u'cid': u'K0683K8BAB7NG9KNH9AMCRYWTSDM', u'invocation_time': datetime.datetime(2016, 6, 19, 2, 49, 46, 833809), u'job_type': None, u'data_format': None, u'slow_threshold': 99999, u'request.payload': u'Sample payload for a startup service (first worker)', u'wsgi_environ': {u'zato.request_ctx.async_msg': Bunch(action=u'101802', channel=u'startup-service', cid=u'K0683K8BAB7NG9KNH9AMCRYWTSDM', msg_type=u'0001', payload=u'Sample payload for a startup service (first worker)', service=u'zato.helpers.input-logger'), u'zato.request_ctx.fanout_cid': None, u'zato.request_ctx.in_reply_to': None, u'zato.request_ctx.parallel_exec_cid': None}, u'environ': {}, u'usage': 59, u'channel': u'startup-service'}\r\n",
      "2016-06-18 21:49:53,098 - \u001b[1;37mINFO\u001b[0m - 3290:Dummy-2 - zato.broker.client:22 - Starting broker client, host:[localhost], port:[6379], name:[parallel-K07M62AE4SJHCRPSWW71TQA6FKBZ], topics:[['/zato/to-parallel/all', '/zato/to-parallel/any']]\r\n",
      "2016-06-18 21:50:21,674 - \u001b[1;33mWARNING\u001b[0m - 3289:Dummy-27 - zato.server.connection.http_soap.channel:22 - Expected `DELETE` instead of `GET` for `/corpus/{id}`\r\n",
      "2016-06-18 21:50:21,674 - \u001b[1;31mERROR\u001b[0m - 3289:Dummy-27 - zato.server.connection.http_soap.channel:22 - Caught an exception, cid:`K04P588H0KVX348AHVVA9Z551VAB`, status_code:`405`, _format_exc:`Traceback (most recent call last):\r\n",
      "  File \"/opt/zato/2.0.7/zato-server/src/zato/server/connection/http_soap/channel.py\", line 171, in dispatch\r\n",
      "    raise MethodNotAllowed(cid, 'Method `{}` is not allowed here'.format(actual_method))\r\n",
      "MethodNotAllowed: Method `GET` is not allowed here\r\n",
      "`\r\n",
      "2016-06-18 21:51:51,485 - \u001b[1;33mWARNING\u001b[0m - 3290:Dummy-9 - zato.server.connection.http_soap.channel:22 - Expected `DELETE` instead of `GET` for `/corpus/{id}`\r\n",
      "2016-06-18 21:51:51,486 - \u001b[1;31mERROR\u001b[0m - 3290:Dummy-9 - zato.server.connection.http_soap.channel:22 - Caught an exception, cid:`K06Z8HCF0ZTWWGGBS6FHDP5772X1`, status_code:`405`, _format_exc:`Traceback (most recent call last):\r\n",
      "  File \"/opt/zato/2.0.7/zato-server/src/zato/server/connection/http_soap/channel.py\", line 171, in dispatch\r\n",
      "    raise MethodNotAllowed(cid, 'Method `{}` is not allowed here'.format(actual_method))\r\n",
      "MethodNotAllowed: Method `GET` is not allowed here\r\n",
      "`\r\n",
      "2016-06-18 21:51:59,464 - \u001b[1;31mERROR\u001b[0m - 3289:Dummy-46 - zato.server.connection.http_soap.channel:22 - Caught an exception, cid:`K04KF63RJKASQ7DHEXY4KQWZXQQ9`, status_code:`500`, _format_exc:`Traceback (most recent call last):\r\n",
      "  File \"/opt/zato/2.0.7/zato-server/src/zato/server/connection/http_soap/channel.py\", line 198, in dispatch\r\n",
      "    payload, worker_store, self.simple_io_config, post_data)\r\n",
      "  File \"/opt/zato/2.0.7/zato-server/src/zato/server/connection/http_soap/channel.py\", line 337, in handle\r\n",
      "    service = self.server.service_store.new_instance(channel_item.service_impl_name)\r\n",
      "  File \"/opt/zato/2.0.7/zato-server/src/zato/server/service/store.py\", line 79, in new_instance\r\n",
      "    return self.services[class_name]['service_class']()\r\n",
      "KeyError: u'CorporaFetchOne.CorporaFetchService'\r\n",
      "`\r\n"
     ]
    }
   ],
   "source": [
    "!tail -n 100 $ZATODIR/server1/logs/server.log"
   ]
  },
  {
   "cell_type": "code",
   "execution_count": 12,
   "metadata": {
    "collapsed": false
   },
   "outputs": [
    {
     "name": "stdout",
     "output_type": "stream",
     "text": [
      "{\"zato_env\": {\"details\": \"Traceback (most recent call last):\\n  File \\\"\\/opt\\/zato\\/2.0.7\\/zato-server\\/src\\/zato\\/server\\/connection\\/http_soap\\/channel.py\\\", line 198, in dispatch\\n    payload, worker_store, self.simple_io_config, post_data)\\n  File \\\"\\/opt\\/zato\\/2.0.7\\/zato-server\\/src\\/zato\\/server\\/connection\\/http_soap\\/channel.py\\\", line 337, in handle\\n    service = self.server.service_store.new_instance(channel_item.service_impl_name)\\n  File \\\"\\/opt\\/zato\\/2.0.7\\/zato-server\\/src\\/zato\\/server\\/service\\/store.py\\\", line 79, in new_instance\\n    return self.services[class_name]['service_class']()\\nKeyError: u'CorporaFetchOne.CorporaFetchService'\\n\", \"result\": \"ZATO_ERROR\", \"cid\": \"K04KF63RJKASQ7DHEXY4KQWZXQQ9\"}}"
     ]
    }
   ],
   "source": [
    "!curl localhost:11223/corpus/get/1"
   ]
  },
  {
   "cell_type": "code",
   "execution_count": null,
   "metadata": {
    "collapsed": true
   },
   "outputs": [],
   "source": []
  }
 ],
 "metadata": {
  "kernelspec": {
   "display_name": "Python 2",
   "language": "python",
   "name": "python2"
  },
  "language_info": {
   "codemirror_mode": {
    "name": "ipython",
    "version": 2
   },
   "file_extension": ".py",
   "mimetype": "text/x-python",
   "name": "python",
   "nbconvert_exporter": "python",
   "pygments_lexer": "ipython2",
   "version": "2.7.6"
  }
 },
 "nbformat": 4,
 "nbformat_minor": 0
}
